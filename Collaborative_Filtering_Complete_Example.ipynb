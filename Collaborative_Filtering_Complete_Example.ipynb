{
 "cells": [
  {
   "cell_type": "code",
   "execution_count": 31,
   "metadata": {
    "collapsed": false
   },
   "outputs": [
    {
     "name": "stdout",
     "output_type": "stream",
     "text": [
      "[[ 1  4  1  7  4]\n",
      " [ 3  4  8  2 10]\n",
      " [ 4  1 10  2  4]\n",
      " [ 1  9  7  4  8]\n",
      " [ 0  8  0  5  4]\n",
      " [10  5  5  1  4]\n",
      " [ 3 10 10  3  3]\n",
      " [10  5  3  9  9]\n",
      " [ 5  7  0  1  3]\n",
      " [ 9  8 10  7  5]]\n"
     ]
    }
   ],
   "source": [
    "from numpy import *\n",
    "\n",
    "num_movies = 10 # define the number of movies in our 'database'\n",
    "\n",
    "num_users = 5 # define the number of users in our 'database'\n",
    "\n",
    "# randomly initialize some movie ratings \n",
    "ratings = random.randint(11, size = (num_movies, num_users))\n",
    "\n",
    "print(ratings)"
   ]
  },
  {
   "cell_type": "code",
   "execution_count": 32,
   "metadata": {
    "collapsed": false
   },
   "outputs": [
    {
     "name": "stdout",
     "output_type": "stream",
     "text": [
      "[[1 1 1 1 1]\n",
      " [1 1 1 1 1]\n",
      " [1 1 1 1 1]\n",
      " [1 1 1 1 1]\n",
      " [0 1 0 1 1]\n",
      " [1 1 1 1 1]\n",
      " [1 1 1 1 1]\n",
      " [1 1 1 1 1]\n",
      " [1 1 0 1 1]\n",
      " [1 1 1 1 1]]\n"
     ]
    }
   ],
   "source": [
    "# create a logical matrix (matrix that represents whether a rating was made, or not)\n",
    "\n",
    "did_rate = (ratings != 0) * 1\n",
    "\n",
    "print(did_rate)"
   ]
  },
  {
   "cell_type": "code",
   "execution_count": 33,
   "metadata": {
    "collapsed": false
   },
   "outputs": [
    {
     "name": "stdout",
     "output_type": "stream",
     "text": [
      "[[ 0.]\n",
      " [ 0.]\n",
      " [ 0.]\n",
      " [ 0.]\n",
      " [ 0.]\n",
      " [ 0.]\n",
      " [ 0.]\n",
      " [ 0.]\n",
      " [ 0.]\n",
      " [ 0.]]\n"
     ]
    }
   ],
   "source": [
    "# Let's make some ratings. A 10 X 1 column vector to store all the ratings I make\n",
    "\n",
    "vishnu_ratings = zeros((num_movies, 1))\n",
    "print(vishnu_ratings)"
   ]
  },
  {
   "cell_type": "code",
   "execution_count": 34,
   "metadata": {
    "collapsed": false
   },
   "outputs": [
    {
     "name": "stdout",
     "output_type": "stream",
     "text": [
      "[[ 8.]\n",
      " [ 0.]\n",
      " [ 0.]\n",
      " [ 0.]\n",
      " [ 7.]\n",
      " [ 0.]\n",
      " [ 0.]\n",
      " [ 3.]\n",
      " [ 0.]\n",
      " [ 0.]]\n"
     ]
    }
   ],
   "source": [
    "# I rate 3 movies\n",
    "\n",
    "vishnu_ratings[0] = 8\n",
    "vishnu_ratings[4] = 7\n",
    "vishnu_ratings[7] = 3\n",
    "\n",
    "print(vishnu_ratings)"
   ]
  },
  {
   "cell_type": "code",
   "execution_count": 35,
   "metadata": {
    "collapsed": false
   },
   "outputs": [
    {
     "name": "stdout",
     "output_type": "stream",
     "text": [
      "[[  8.   1.   4.   1.   7.   4.]\n",
      " [  0.   3.   4.   8.   2.  10.]\n",
      " [  0.   4.   1.  10.   2.   4.]\n",
      " [  0.   1.   9.   7.   4.   8.]\n",
      " [  7.   0.   8.   0.   5.   4.]\n",
      " [  0.  10.   5.   5.   1.   4.]\n",
      " [  0.   3.  10.  10.   3.   3.]\n",
      " [  3.  10.   5.   3.   9.   9.]\n",
      " [  0.   5.   7.   0.   1.   3.]\n",
      " [  0.   9.   8.  10.   7.   5.]]\n",
      "[[1 1 1 1 1 1]\n",
      " [0 1 1 1 1 1]\n",
      " [0 1 1 1 1 1]\n",
      " [0 1 1 1 1 1]\n",
      " [1 0 1 0 1 1]\n",
      " [0 1 1 1 1 1]\n",
      " [0 1 1 1 1 1]\n",
      " [1 1 1 1 1 1]\n",
      " [0 1 1 0 1 1]\n",
      " [0 1 1 1 1 1]]\n"
     ]
    },
    {
     "data": {
      "text/plain": [
       "(10, 6)"
      ]
     },
     "execution_count": 35,
     "metadata": {},
     "output_type": "execute_result"
    }
   ],
   "source": [
    "# Update ratings and did_rate\n",
    "ratings = append(vishnu_ratings, ratings, axis = 1)\n",
    "did_rate = append(((vishnu_ratings != 0) * 1), did_rate, axis = 1)\n",
    "\n",
    "print(ratings)\n",
    "print(did_rate)\n",
    "did_rate.shape"
   ]
  },
  {
   "cell_type": "code",
   "execution_count": 36,
   "metadata": {
    "collapsed": true
   },
   "outputs": [],
   "source": [
    "# a function that normalizes a dataset\n",
    "\n",
    "def normalize_ratings(ratings, did_rate):\n",
    "    num_movies = ratings.shape[0]\n",
    "    \n",
    "    ratings_mean = zeros(shape = (num_movies, 1))\n",
    "    ratings_norm = zeros(shape = ratings.shape)\n",
    "    \n",
    "    for i in range(num_movies): \n",
    "        # Get all the indexes where there is a 1\n",
    "        idx = where(did_rate[i] == 1)[0]\n",
    "        #  Calculate mean rating of ith movie only from user's that gave a rating\n",
    "        ratings_mean[i] = mean(ratings[i, idx])\n",
    "        ratings_norm[i, idx] = ratings[i, idx] - ratings_mean[i]\n",
    "    \n",
    "    return ratings_norm, ratings_mean"
   ]
  },
  {
   "cell_type": "code",
   "execution_count": 37,
   "metadata": {
    "collapsed": false
   },
   "outputs": [
    {
     "name": "stdout",
     "output_type": "stream",
     "text": [
      "[[ 3.83333333 -3.16666667 -0.16666667 -3.16666667  2.83333333 -0.16666667]\n",
      " [ 0.         -2.4        -1.4         2.6        -3.4         4.6       ]\n",
      " [ 0.         -0.2        -3.2         5.8        -2.2        -0.2       ]\n",
      " [ 0.         -4.8         3.2         1.2        -1.8         2.2       ]\n",
      " [ 1.          0.          2.          0.         -1.         -2.        ]\n",
      " [ 0.          5.          0.          0.         -4.         -1.        ]\n",
      " [ 0.         -2.8         4.2         4.2        -2.8        -2.8       ]\n",
      " [-3.5         3.5        -1.5        -3.5         2.5         2.5       ]\n",
      " [ 0.          1.          3.          0.         -3.         -1.        ]\n",
      " [ 0.          1.2         0.2         2.2        -0.8        -2.8       ]]\n"
     ]
    }
   ],
   "source": [
    "# Normalize ratings\n",
    "\n",
    "ratings, ratings_mean = normalize_ratings(ratings, did_rate)\n",
    "\n",
    "\n",
    "print(ratings)\n",
    "\n",
    "# Update some key variables now\n",
    "\n",
    "num_users = ratings.shape[1]\n",
    "num_features = 3 # Comedy, Action, Romance"
   ]
  },
  {
   "cell_type": "code",
   "execution_count": 38,
   "metadata": {
    "collapsed": false
   },
   "outputs": [
    {
     "name": "stdout",
     "output_type": "stream",
     "text": [
      "[[ 0.28729002  0.83667862  0.17763265]\n",
      " [ 0.44994029  0.75871716  0.60415934]\n",
      " [-1.33414121  1.12077651  0.51294879]\n",
      " [-0.54811157 -3.0264879   1.08458274]\n",
      " [-1.06313731 -0.72988133  0.2641025 ]\n",
      " [-2.0055737  -0.28799122 -0.09253125]\n",
      " [ 0.38883319  0.39072266 -0.60346166]\n",
      " [-0.45470159 -1.17661138 -0.14017454]\n",
      " [-0.98107516  2.16633688 -1.75716689]\n",
      " [-0.39259843 -0.58755351  0.60345537]]\n"
     ]
    }
   ],
   "source": [
    "# Initialize Parameters theta (user_prefs), X (movie_features)\n",
    "\n",
    "movie_features = random.randn( num_movies, num_features )\n",
    "user_prefs = random.randn( num_users, num_features )\n",
    "initial_X_and_theta = r_[movie_features.T.flatten(), user_prefs.T.flatten()]\n",
    "\n",
    "print(movie_features)"
   ]
  },
  {
   "cell_type": "code",
   "execution_count": 39,
   "metadata": {
    "collapsed": false
   },
   "outputs": [
    {
     "name": "stdout",
     "output_type": "stream",
     "text": [
      "[[ 0.40128147 -1.04294776  1.42338513]\n",
      " [ 0.49340708 -0.70905719 -2.31782483]\n",
      " [ 0.0108862   0.2333861  -0.5271819 ]\n",
      " [ 1.16208991  0.99890847  0.31135202]\n",
      " [ 1.07586828 -0.54385544 -0.18148047]\n",
      " [ 1.38729253  1.62229062 -0.19827528]]\n"
     ]
    }
   ],
   "source": [
    "print(user_prefs)"
   ]
  },
  {
   "cell_type": "code",
   "execution_count": 40,
   "metadata": {
    "collapsed": false
   },
   "outputs": [
    {
     "name": "stdout",
     "output_type": "stream",
     "text": [
      "[ 0.28729002  0.44994029 -1.33414121 -0.54811157 -1.06313731 -2.0055737\n",
      "  0.38883319 -0.45470159 -0.98107516 -0.39259843  0.83667862  0.75871716\n",
      "  1.12077651 -3.0264879  -0.72988133 -0.28799122  0.39072266 -1.17661138\n",
      "  2.16633688 -0.58755351  0.17763265  0.60415934  0.51294879  1.08458274\n",
      "  0.2641025  -0.09253125 -0.60346166 -0.14017454 -1.75716689  0.60345537\n",
      "  0.40128147  0.49340708  0.0108862   1.16208991  1.07586828  1.38729253\n",
      " -1.04294776 -0.70905719  0.2333861   0.99890847 -0.54385544  1.62229062\n",
      "  1.42338513 -2.31782483 -0.5271819   0.31135202 -0.18148047 -0.19827528]\n"
     ]
    }
   ],
   "source": [
    "print(initial_X_and_theta)"
   ]
  },
  {
   "cell_type": "code",
   "execution_count": 41,
   "metadata": {
    "collapsed": true
   },
   "outputs": [],
   "source": [
    "def unroll_params(X_and_theta, num_users, num_movies, num_features):\n",
    "\t# Retrieve the X and theta matrixes from X_and_theta, based on their dimensions (num_features, num_movies, num_movies)\n",
    "\t# --------------------------------------------------------------------------------------------------------------\n",
    "\t# Get the first 30 (10 * 3) rows in the 48 X 1 column vector\n",
    "\tfirst_30 = X_and_theta[:num_movies * num_features]\n",
    "\t# Reshape this column vector into a 10 X 3 matrix\n",
    "\tX = first_30.reshape((num_features, num_movies)).transpose()\n",
    "\t# Get the rest of the 18 the numbers, after the first 30\n",
    "\tlast_18 = X_and_theta[num_movies * num_features:]\n",
    "\t# Reshape this column vector into a 6 X 3 matrix\n",
    "\ttheta = last_18.reshape(num_features, num_users ).transpose()\n",
    "\treturn X, theta"
   ]
  },
  {
   "cell_type": "code",
   "execution_count": 42,
   "metadata": {
    "collapsed": true
   },
   "outputs": [],
   "source": [
    "def calculate_gradient(X_and_theta, ratings, did_rate, num_users, num_movies, num_features, reg_param):\n",
    "\tX, theta = unroll_params(X_and_theta, num_users, num_movies, num_features)\n",
    "\t\n",
    "\t# we multiply by did_rate because we only want to consider observations for which a rating was given\n",
    "\tdifference = X.dot( theta.T ) * did_rate - ratings\n",
    "\tX_grad = difference.dot( theta ) + reg_param * X\n",
    "\ttheta_grad = difference.T.dot( X ) + reg_param * theta\n",
    "\t\n",
    "\t# wrap the gradients back into a column vector \n",
    "\treturn r_[X_grad.T.flatten(), theta_grad.T.flatten()]"
   ]
  },
  {
   "cell_type": "code",
   "execution_count": 43,
   "metadata": {
    "collapsed": true
   },
   "outputs": [],
   "source": [
    "def calculate_cost(X_and_theta, ratings, did_rate, num_users, num_movies, num_features, reg_param):\n",
    "\tX, theta = unroll_params(X_and_theta, num_users, num_movies, num_features)\n",
    "\t\n",
    "\t# we multiply (element-wise) by did_rate because we only want to consider observations for which a rating was given\n",
    "\tcost = sum( (X.dot( theta.T ) * did_rate - ratings) ** 2 ) / 2\n",
    "\t# '**' means an element-wise power\n",
    "\tregularization = (reg_param / 2) * (sum( theta**2 ) + sum(X**2))\n",
    "\treturn cost + regularization"
   ]
  },
  {
   "cell_type": "code",
   "execution_count": 44,
   "metadata": {
    "collapsed": false
   },
   "outputs": [
    {
     "name": "stdout",
     "output_type": "stream",
     "text": [
      "Optimization terminated successfully.\n",
      "         Current function value: 189.366667\n",
      "         Iterations: 11\n",
      "         Function evaluations: 23\n",
      "         Gradient evaluations: 23\n"
     ]
    }
   ],
   "source": [
    "# Lets Make Some Predictions :D\n",
    "from scipy import optimize\n",
    "reg_param = 30\n",
    "\n",
    "minimized_cost_and_optimal_params = optimize.fmin_cg(\n",
    "                calculate_cost,\n",
    "                fprime=calculate_gradient,\n",
    "                x0=initial_X_and_theta,\n",
    "                args=(\n",
    "                    ratings,\n",
    "                    did_rate,\n",
    "                    num_users,\n",
    "                    num_movies,\n",
    "                    num_features,\n",
    "                    reg_param),\n",
    "                maxiter=100,\n",
    "                disp=True,\n",
    "                full_output=True )"
   ]
  },
  {
   "cell_type": "code",
   "execution_count": 45,
   "metadata": {
    "collapsed": false
   },
   "outputs": [
    {
     "name": "stdout",
     "output_type": "stream",
     "text": [
      "[[  8.15802500e-08  -4.62497096e-08   1.59294756e-07]\n",
      " [ -1.92461167e-07   3.11473450e-09  -1.59896010e-07]\n",
      " [ -1.86551894e-07  -1.29592127e-07  -1.31146745e-07]\n",
      " [ -4.18890158e-08   2.07719667e-08  -3.36649972e-08]\n",
      " [  4.01310913e-08   6.45647481e-08   1.08893540e-07]\n",
      " [ -9.67461597e-08   1.03913889e-07  -9.93492082e-09]\n",
      " [  9.70711297e-08   7.62352250e-08  -3.98628676e-08]\n",
      " [ -1.29668675e-07   3.12506675e-08  -9.37551596e-08]\n",
      " [ -1.11414710e-07   2.20967001e-07  -1.44213851e-07]\n",
      " [  1.01829767e-07  -3.39828760e-08   1.19425163e-07]]\n"
     ]
    }
   ],
   "source": [
    "cost, optimal_movie_features_and_user_prefs = minimized_cost_and_optimal_params[1], minimized_cost_and_optimal_params[0]\n",
    "\n",
    "movie_features, user_prefs = unroll_params(optimal_movie_features_and_user_prefs, num_users, num_movies, num_features)\n",
    "\n",
    "print(movie_features)"
   ]
  },
  {
   "cell_type": "code",
   "execution_count": 46,
   "metadata": {
    "collapsed": false
   },
   "outputs": [
    {
     "name": "stdout",
     "output_type": "stream",
     "text": [
      "[[  3.89664692e-08   9.24322433e-08   1.77847081e-07]\n",
      " [  1.59444914e-08  -4.21368536e-08  -1.25861272e-07]\n",
      " [  1.90906708e-07  -1.98363958e-07   2.14967772e-07]\n",
      " [  3.48676970e-08   1.60881517e-08  -8.04594470e-08]\n",
      " [  8.88489146e-08   9.34337955e-08  -1.01377153e-08]\n",
      " [  1.31873690e-08  -2.63041447e-07  -2.00985195e-07]]\n"
     ]
    }
   ],
   "source": [
    "print(user_prefs)"
   ]
  },
  {
   "cell_type": "code",
   "execution_count": 47,
   "metadata": {
    "collapsed": false
   },
   "outputs": [
    {
     "name": "stdout",
     "output_type": "stream",
     "text": [
      "[[  2.72340372e-14  -1.67994678e-14   5.89917311e-14  -1.07163249e-14\n",
      "    1.31214589e-15  -1.87744682e-14]\n",
      " [ -3.56486689e-14   1.69247747e-14  -7.17324678e-14   6.20457723e-15\n",
      "   -1.51879641e-14   2.87793701e-14]\n",
      " [ -4.25718254e-14   1.89924255e-14  -3.80999242e-14   1.96246188e-15\n",
      "   -2.73536892e-14   5.79865260e-14]\n",
      " [ -5.69948905e-15   2.69395500e-15  -1.93541931e-14   1.58227610e-15\n",
      "   -1.43970374e-15   7.49871950e-16]\n",
      " [  2.68980297e-14  -1.57861650e-14   1.82625773e-14  -6.32350785e-15\n",
      "    8.49420166e-15  -3.83399707e-14]\n",
      " [  4.06824091e-15  -4.67075086e-15  -4.12179488e-14  -9.02175142e-16\n",
      "    1.21399512e-15  -2.66127149e-14]\n",
      " [  3.73961741e-15   3.35262851e-15  -5.16002302e-15   7.81847489e-15\n",
      "    1.61517293e-14  -1.07610649e-14]\n",
      " [ -1.88382426e-14   8.41583775e-15  -5.11079637e-14   3.52500570e-15\n",
      "   -7.65058945e-15   8.91318956e-15]\n",
      " [ -9.56497467e-15   7.06363365e-15  -9.61030346e-14   1.12735430e-14\n",
      "    1.22087085e-14  -3.06078977e-14]\n",
      " [  2.20662497e-14  -1.19754476e-14   5.18535246e-14  -6.60503479e-15\n",
      "    4.66161691e-15  -1.37209181e-14]]\n"
     ]
    }
   ],
   "source": [
    "# Make some predictions (movie recommendations). Dot product\n",
    "\n",
    "all_predictions = movie_features.dot( user_prefs.T )\n",
    "\n",
    "print(all_predictions)"
   ]
  },
  {
   "cell_type": "code",
   "execution_count": 48,
   "metadata": {
    "collapsed": false
   },
   "outputs": [
    {
     "name": "stdout",
     "output_type": "stream",
     "text": [
      "[[ 4.16666667]\n",
      " [ 5.4       ]\n",
      " [ 4.2       ]\n",
      " [ 5.8       ]\n",
      " [ 6.        ]\n",
      " [ 5.        ]\n",
      " [ 5.8       ]\n",
      " [ 6.5       ]\n",
      " [ 4.        ]\n",
      " [ 7.8       ]]\n"
     ]
    }
   ],
   "source": [
    "# add back the ratings_mean column vector to my (our) predictions\n",
    "\n",
    "predictions_for_vishnu = all_predictions[:, 0:1] + ratings_mean\n",
    "\n",
    "print(predictions_for_vishnu)"
   ]
  },
  {
   "cell_type": "code",
   "execution_count": null,
   "metadata": {
    "collapsed": true
   },
   "outputs": [],
   "source": []
  }
 ],
 "metadata": {
  "kernelspec": {
   "display_name": "Python 3",
   "language": "python",
   "name": "python3"
  },
  "language_info": {
   "codemirror_mode": {
    "name": "ipython",
    "version": 3
   },
   "file_extension": ".py",
   "mimetype": "text/x-python",
   "name": "python",
   "nbconvert_exporter": "python",
   "pygments_lexer": "ipython3",
   "version": "3.5.2"
  }
 },
 "nbformat": 4,
 "nbformat_minor": 1
}
