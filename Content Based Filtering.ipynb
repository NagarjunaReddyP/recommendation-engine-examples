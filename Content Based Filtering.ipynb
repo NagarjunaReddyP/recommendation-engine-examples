{
 "cells": [
  {
   "cell_type": "code",
   "execution_count": 1,
   "metadata": {
    "collapsed": false
   },
   "outputs": [
    {
     "name": "stdout",
     "output_type": "stream",
     "text": [
      "0.869647366453\n"
     ]
    }
   ],
   "source": [
    "# Importing the libraries\n",
    "from scipy.stats.stats import pearsonr\n",
    "import pandas as pd\n",
    "import numpy as np\n",
    "import json\n",
    "\n",
    "data = pd.read_csv(\"data/data_books.csv\", sep = \",\", header=None, names=['Reviewer', 'Book', 'Rating'])\n",
    "\n",
    "# Picking 2 books \n",
    "book_1 = \"Harry Potter and the Chamber of Secrets (Book 2)\" \n",
    "book_2 = \"Harry Potter and the Sorcerer's Stone (Harry Potter (Paperback))\"\n",
    "\n",
    "# Getting all the reviewers for these books\n",
    "book_1_reviewers = data[data.Book == book_1].Reviewer\n",
    "book_2_reviewers = data[data.Book == book_2].Reviewer\n",
    "\n",
    "# Look for common reviewers\n",
    "common_reviewers = set(book_1_reviewers).intersection(book_2_reviewers)\n",
    "\n",
    "# Let's create a function that collect the reviews of our common reviewers\n",
    "def get_book_reviews(title, common_reviewers):\n",
    "    reviewer_books = (data.Reviewer.isin(common_reviewers)) & (data.Book==title)\n",
    "    reviews = data[reviewer_books].sort_values(by='Reviewer')\n",
    "    reviews = reviews[reviews.Reviewer.duplicated()==False]\n",
    "    return reviews\n",
    "\n",
    "# Let's extract the reviews for our 2 Harry potter books\n",
    "book_1_reviews = get_book_reviews(book_1, common_reviewers)\n",
    "book_2_reviews = get_book_reviews(book_2, common_reviewers)\n",
    "\n",
    "# We compute the Pearson Correlation Score\n",
    "correlation_coefficient = pearsonr(book_1_reviews.Rating, book_2_reviews.Rating)[0]\n",
    "\n",
    "# We know how they related\n",
    "print(correlation_coefficient)"
   ]
  },
  {
   "cell_type": "code",
   "execution_count": null,
   "metadata": {
    "collapsed": true
   },
   "outputs": [],
   "source": []
  }
 ],
 "metadata": {
  "kernelspec": {
   "display_name": "Python 3",
   "language": "python",
   "name": "python3"
  },
  "language_info": {
   "codemirror_mode": {
    "name": "ipython",
    "version": 3
   },
   "file_extension": ".py",
   "mimetype": "text/x-python",
   "name": "python",
   "nbconvert_exporter": "python",
   "pygments_lexer": "ipython3",
   "version": "3.5.2"
  }
 },
 "nbformat": 4,
 "nbformat_minor": 1
}
