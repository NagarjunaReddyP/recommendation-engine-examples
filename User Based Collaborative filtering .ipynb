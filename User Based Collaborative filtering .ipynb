{
 "cells": [
  {
   "cell_type": "code",
   "execution_count": null,
   "metadata": {
    "collapsed": false
   },
   "outputs": [],
   "source": [
    "# User Based collaborative Filtering\n",
    "# The process for creating a User Based recommendation system is as follows:\n",
    "#    * Have an Item Based similarity matrix at your disposal (we do…wohoo!)\n",
    "#    * Check which items the user has consumed\n",
    "#    * For each item the user has consumed, get the top X neighbours\n",
    "#    * Get the consumption record of the user for each neighbour.\n",
    "#    * Calculate a similarity score using some formula\n",
    "#    * Recommend the items with the highest score\n",
    "\n",
    "\n",
    "import pandas as pd\n",
    "from scipy.spatial.distance import cosine,euclidean,hamming\n",
    "\n",
    "data = pd.read_csv('data/lastfm-matrix-germany.csv')\n",
    "\n",
    "data_germany = data.drop('user', 1)\n",
    "\n",
    "# Create a placeholder dataframe listing item vs. item\n",
    "data_ibs = pd.DataFrame(index=data_germany.columns,columns=data_germany.columns)\n",
    "\n",
    "# Lets fill in those empty spaces with cosine similarities\n",
    "# Loop through the columns\n",
    "for i in range(0,len(data_ibs.columns)) :\n",
    "    # Loop through the columns for each column\n",
    "    for j in range(0,len(data_ibs.columns)) :\n",
    "      # Fill in placeholder with cosine similarities\n",
    "      data_ibs.ix[i,j] = 1-hamming(data_germany.ix[:,i],data_germany.ix[:,j])\n",
    "\n",
    "# Create a placeholder items for closes neighbours to an item\n",
    "data_neighbours = pd.DataFrame(index=data_ibs.columns,columns=range(1,11))\n",
    "\n",
    "\n",
    "# Loop through our similarity dataframe and fill in neighbouring item names\n",
    "for i in range(0,len(data_ibs.columns)):\n",
    "    data_neighbours.ix[i,:10] = data_ibs.ix[0:,i].sort_values(ascending=False)[:10].index\n",
    "    \n",
    "# User Based Collabrative Filtering\n",
    "    \n",
    "    \n",
    "def getScore(history, similarities):\n",
    "   return sum(history*similarities)/sum(similarities)\n",
    "\n",
    "data_sims = pd.DataFrame(index=data.index,columns=data.columns)\n",
    "data_sims.ix[:,:1] = data.ix[:,:1]\n",
    "\n",
    "for i in range(0,len(data_sims.index)):\n",
    "    for j in range(1,len(data_sims.columns)):\n",
    "        user = data_sims.index[i]\n",
    "        product = data_sims.columns[j]\n",
    " \n",
    "        if data.ix[i][j] == 1:\n",
    "            data_sims.ix[i][j] = 0\n",
    "        else:\n",
    "            product_top_names = data_neighbours.ix[product][1:10]\n",
    "            product_top_sims = data_ibs.ix[product].sort_values(ascending=False)[1:10]\n",
    "            user_purchases = data_germany.ix[user,product_top_names]\n",
    " \n",
    "            data_sims.ix[i][j] = getScore(user_purchases,product_top_sims)\n",
    "    \n",
    "data_recommend = pd.DataFrame(index=data_sims.index, columns=['user','1','2','3','4','5','6'])\n",
    "data_recommend.ix[0:,0] = data_sims.ix[:,0]\n",
    "\n",
    "# Instead of top song scores, we want to see names\n",
    "for i in range(0,len(data_sims.index)):\n",
    "    data_recommend.ix[i,1:] = data_sims.ix[i,:].sort_values(ascending=False).ix[1:7,].index.transpose()\n",
    "    \n",
    "print(data_recommend.ix[:10,:4])\n"
   ]
  },
  {
   "cell_type": "code",
   "execution_count": null,
   "metadata": {
    "collapsed": true
   },
   "outputs": [],
   "source": []
  }
 ],
 "metadata": {
  "kernelspec": {
   "display_name": "Python 3",
   "language": "python",
   "name": "python3"
  },
  "language_info": {
   "codemirror_mode": {
    "name": "ipython",
    "version": 3
   },
   "file_extension": ".py",
   "mimetype": "text/x-python",
   "name": "python",
   "nbconvert_exporter": "python",
   "pygments_lexer": "ipython3",
   "version": "3.5.2"
  }
 },
 "nbformat": 4,
 "nbformat_minor": 1
}
